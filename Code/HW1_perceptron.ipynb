{
 "cells": [
  {
   "cell_type": "code",
   "execution_count": 3,
   "metadata": {},
   "outputs": [],
   "source": [
    "import cv2\n",
    "import numpy as np\n",
    "import pandas as pd\n",
    "import matplotlib.pyplot as plt"
   ]
  },
  {
   "cell_type": "code",
   "execution_count": 2,
   "metadata": {},
   "outputs": [],
   "source": [
    "def preprocess(filepath, imgf, labelf) :\n",
    "  file = open(filepath, 'r')\n",
    "  for line in file.readlines():\n",
    "    img, label = line.split()\n",
    "    imgf.append('./data/'+img); labelf.append(label)\n",
    "  file.close()"
   ]
  },
  {
   "cell_type": "code",
   "execution_count": 3,
   "metadata": {},
   "outputs": [],
   "source": [
    "def cv2hog(imgl):\n",
    "  histl = []\n",
    "  winSize = (64,64)\n",
    "  blockSize = (16,16)\n",
    "  blockStride = (8,8)\n",
    "  cellSize = (8,8)\n",
    "  nbins = 9\n",
    "  derivAperture = 1\n",
    "  winSigma = 4.\n",
    "  histogramNormType = 0\n",
    "  L2HysThreshold = 2.0000000000000001e-01\n",
    "  gammaCorrection = 0\n",
    "  nlevels = 64\n",
    "  for ig in imgl:\n",
    "    image = cv2.imread(ig,0)\n",
    "    # plt.imshow(image)\n",
    "    hog = cv2.HOGDescriptor(winSize,blockSize,blockStride,cellSize,nbins,derivAperture,winSigma,\n",
    "                        histogramNormType,L2HysThreshold,gammaCorrection,nlevels)\n",
    "    hist = hog.compute(image, winStride=(8,8), padding=(8,8), locations=((10,20),))\n",
    "    histl.append(hist)\n",
    "  return(histl)"
   ]
  },
  {
   "cell_type": "code",
   "execution_count": 4,
   "metadata": {},
   "outputs": [],
   "source": [
    "test_y = []\n",
    "test_imgs = []\n",
    "train_y = []\n",
    "train_imgs = []\n",
    "val_y = []\n",
    "val_imgs = []\n",
    "preprocess('./data/test.txt',test_imgs,test_y)\n",
    "preprocess('./data/train.txt',train_imgs,train_y)\n",
    "preprocess('./data/val.txt',val_imgs,val_y)"
   ]
  },
  {
   "cell_type": "code",
   "execution_count": 5,
   "metadata": {},
   "outputs": [
    {
     "data": {
      "text/plain": [
       "['./data/images/n02111277/n02111277_9420.JPEG',\n",
       " './data/images/n02111277/n02111277_9422.JPEG',\n",
       " './data/images/n02111277/n02111277_9484.JPEG',\n",
       " './data/images/n02111277/n02111277_951.JPEG',\n",
       " './data/images/n02111277/n02111277_9518.JPEG',\n",
       " './data/images/n02111277/n02111277_9562.JPEG',\n",
       " './data/images/n02111277/n02111277_9619.JPEG',\n",
       " './data/images/n02111277/n02111277_9622.JPEG',\n",
       " './data/images/n02111277/n02111277_9641.JPEG',\n",
       " './data/images/n02111500/n02111500_9386.JPEG',\n",
       " './data/images/n02111500/n02111500_9398.JPEG',\n",
       " './data/images/n02111500/n02111500_9403.JPEG',\n",
       " './data/images/n02111500/n02111500_9405.JPEG',\n",
       " './data/images/n02111500/n02111500_9409.JPEG',\n",
       " './data/images/n02111500/n02111500_9410.JPEG',\n",
       " './data/images/n02111500/n02111500_9418.JPEG',\n",
       " './data/images/n02111500/n02111500_9420.JPEG',\n",
       " './data/images/n02111500/n02111500_9423.JPEG',\n",
       " './data/images/n02111889/n02111889_9654.JPEG',\n",
       " './data/images/n02111889/n02111889_97.JPEG',\n",
       " './data/images/n02111889/n02111889_9705.JPEG',\n",
       " './data/images/n02111889/n02111889_9724.JPEG',\n",
       " './data/images/n02111889/n02111889_9736.JPEG',\n",
       " './data/images/n02111889/n02111889_979.JPEG',\n",
       " './data/images/n02111889/n02111889_9790.JPEG',\n",
       " './data/images/n02111889/n02111889_9793.JPEG',\n",
       " './data/images/n02111889/n02111889_9797.JPEG',\n",
       " './data/images/n02112018/n02112018_9791.JPEG',\n",
       " './data/images/n02112018/n02112018_9799.JPEG',\n",
       " './data/images/n02112018/n02112018_981.JPEG',\n",
       " './data/images/n02112018/n02112018_9822.JPEG',\n",
       " './data/images/n02112018/n02112018_9834.JPEG',\n",
       " './data/images/n02112018/n02112018_9837.JPEG',\n",
       " './data/images/n02112018/n02112018_9849.JPEG',\n",
       " './data/images/n02112018/n02112018_9861.JPEG',\n",
       " './data/images/n02112018/n02112018_9862.JPEG',\n",
       " './data/images/n02112137/n02112137_9678.JPEG',\n",
       " './data/images/n02112137/n02112137_9687.JPEG',\n",
       " './data/images/n02112137/n02112137_9688.JPEG',\n",
       " './data/images/n02112137/n02112137_9700.JPEG',\n",
       " './data/images/n02112137/n02112137_9708.JPEG',\n",
       " './data/images/n02112137/n02112137_9721.JPEG',\n",
       " './data/images/n02112137/n02112137_9740.JPEG',\n",
       " './data/images/n02112137/n02112137_9761.JPEG',\n",
       " './data/images/n02112137/n02112137_9774.JPEG',\n",
       " './data/images/n02112350/n02112350_9889.JPEG',\n",
       " './data/images/n02112350/n02112350_9896.JPEG',\n",
       " './data/images/n02112350/n02112350_9898.JPEG',\n",
       " './data/images/n02112350/n02112350_9899.JPEG',\n",
       " './data/images/n02112350/n02112350_9901.JPEG',\n",
       " './data/images/n02112350/n02112350_9908.JPEG',\n",
       " './data/images/n02112350/n02112350_991.JPEG',\n",
       " './data/images/n02112350/n02112350_9926.JPEG',\n",
       " './data/images/n02112350/n02112350_9941.JPEG',\n",
       " './data/images/n02112706/n02112706_86.JPEG',\n",
       " './data/images/n02112706/n02112706_863.JPEG',\n",
       " './data/images/n02112706/n02112706_866.JPEG',\n",
       " './data/images/n02112706/n02112706_888.JPEG',\n",
       " './data/images/n02112706/n02112706_89.JPEG',\n",
       " './data/images/n02112706/n02112706_895.JPEG',\n",
       " './data/images/n02112706/n02112706_898.JPEG',\n",
       " './data/images/n02112706/n02112706_906.JPEG',\n",
       " './data/images/n02112706/n02112706_913.JPEG',\n",
       " './data/images/n02113023/n02113023_972.JPEG',\n",
       " './data/images/n02113023/n02113023_974.JPEG',\n",
       " './data/images/n02113023/n02113023_9745.JPEG',\n",
       " './data/images/n02113023/n02113023_9757.JPEG',\n",
       " './data/images/n02113023/n02113023_9770.JPEG',\n",
       " './data/images/n02113023/n02113023_98.JPEG',\n",
       " './data/images/n02113023/n02113023_9820.JPEG',\n",
       " './data/images/n02113023/n02113023_9839.JPEG',\n",
       " './data/images/n02113023/n02113023_9854.JPEG',\n",
       " './data/images/n02113186/n02113186_9895.JPEG',\n",
       " './data/images/n02113186/n02113186_9900.JPEG',\n",
       " './data/images/n02113186/n02113186_9902.JPEG',\n",
       " './data/images/n02113186/n02113186_9904.JPEG',\n",
       " './data/images/n02113186/n02113186_9908.JPEG',\n",
       " './data/images/n02113186/n02113186_9913.JPEG',\n",
       " './data/images/n02113186/n02113186_9924.JPEG',\n",
       " './data/images/n02113186/n02113186_9934.JPEG',\n",
       " './data/images/n02113186/n02113186_9935.JPEG',\n",
       " './data/images/n02113624/n02113624_9747.JPEG',\n",
       " './data/images/n02113624/n02113624_9750.JPEG',\n",
       " './data/images/n02113624/n02113624_9756.JPEG',\n",
       " './data/images/n02113624/n02113624_9759.JPEG',\n",
       " './data/images/n02113624/n02113624_9769.JPEG',\n",
       " './data/images/n02113624/n02113624_9772.JPEG',\n",
       " './data/images/n02113624/n02113624_9791.JPEG',\n",
       " './data/images/n02113624/n02113624_9804.JPEG',\n",
       " './data/images/n02113624/n02113624_9806.JPEG',\n",
       " './data/images/n02113712/n02113712_9682.JPEG',\n",
       " './data/images/n02113712/n02113712_9685.JPEG',\n",
       " './data/images/n02113712/n02113712_9752.JPEG',\n",
       " './data/images/n02113712/n02113712_9759.JPEG',\n",
       " './data/images/n02113712/n02113712_9780.JPEG',\n",
       " './data/images/n02113712/n02113712_9802.JPEG',\n",
       " './data/images/n02113712/n02113712_9803.JPEG',\n",
       " './data/images/n02113712/n02113712_9835.JPEG',\n",
       " './data/images/n02113712/n02113712_984.JPEG',\n",
       " './data/images/n02113799/n02113799_9843.JPEG',\n",
       " './data/images/n02113799/n02113799_986.JPEG',\n",
       " './data/images/n02113799/n02113799_9863.JPEG',\n",
       " './data/images/n02113799/n02113799_9868.JPEG',\n",
       " './data/images/n02113799/n02113799_987.JPEG',\n",
       " './data/images/n02113799/n02113799_9879.JPEG',\n",
       " './data/images/n02113799/n02113799_988.JPEG',\n",
       " './data/images/n02113799/n02113799_9889.JPEG',\n",
       " './data/images/n02113799/n02113799_9890.JPEG',\n",
       " './data/images/n02113978/n02113978_9640.JPEG',\n",
       " './data/images/n02113978/n02113978_9646.JPEG',\n",
       " './data/images/n02113978/n02113978_9708.JPEG',\n",
       " './data/images/n02113978/n02113978_9709.JPEG',\n",
       " './data/images/n02113978/n02113978_9718.JPEG',\n",
       " './data/images/n02113978/n02113978_9737.JPEG',\n",
       " './data/images/n02113978/n02113978_9745.JPEG',\n",
       " './data/images/n02113978/n02113978_9749.JPEG',\n",
       " './data/images/n02113978/n02113978_9786.JPEG',\n",
       " './data/images/n02114367/n02114367_9682.JPEG',\n",
       " './data/images/n02114367/n02114367_9687.JPEG',\n",
       " './data/images/n02114367/n02114367_9692.JPEG',\n",
       " './data/images/n02114367/n02114367_9701.JPEG',\n",
       " './data/images/n02114367/n02114367_971.JPEG',\n",
       " './data/images/n02114367/n02114367_9722.JPEG',\n",
       " './data/images/n02114367/n02114367_9739.JPEG',\n",
       " './data/images/n02114367/n02114367_975.JPEG',\n",
       " './data/images/n02114367/n02114367_979.JPEG',\n",
       " './data/images/n02114548/n02114548_9642.JPEG',\n",
       " './data/images/n02114548/n02114548_9676.JPEG',\n",
       " './data/images/n02114548/n02114548_9702.JPEG',\n",
       " './data/images/n02114548/n02114548_971.JPEG',\n",
       " './data/images/n02114548/n02114548_9710.JPEG',\n",
       " './data/images/n02114548/n02114548_9730.JPEG',\n",
       " './data/images/n02114548/n02114548_9739.JPEG',\n",
       " './data/images/n02114548/n02114548_9763.JPEG',\n",
       " './data/images/n02114548/n02114548_9821.JPEG',\n",
       " './data/images/n02114712/n02114712_972.JPEG',\n",
       " './data/images/n02114712/n02114712_974.JPEG',\n",
       " './data/images/n02114712/n02114712_9751.JPEG',\n",
       " './data/images/n02114712/n02114712_9752.JPEG',\n",
       " './data/images/n02114712/n02114712_9754.JPEG',\n",
       " './data/images/n02114712/n02114712_9759.JPEG',\n",
       " './data/images/n02114712/n02114712_9768.JPEG',\n",
       " './data/images/n02114712/n02114712_9798.JPEG',\n",
       " './data/images/n02114712/n02114712_980.JPEG',\n",
       " './data/images/n02114855/n02114855_9728.JPEG',\n",
       " './data/images/n02114855/n02114855_973.JPEG',\n",
       " './data/images/n02114855/n02114855_9733.JPEG',\n",
       " './data/images/n02114855/n02114855_9748.JPEG',\n",
       " './data/images/n02114855/n02114855_9749.JPEG',\n",
       " './data/images/n02114855/n02114855_9766.JPEG',\n",
       " './data/images/n02114855/n02114855_9781.JPEG',\n",
       " './data/images/n02114855/n02114855_9794.JPEG',\n",
       " './data/images/n02114855/n02114855_9841.JPEG',\n",
       " './data/images/n02115641/n02115641_9648.JPEG',\n",
       " './data/images/n02115641/n02115641_9651.JPEG',\n",
       " './data/images/n02115641/n02115641_9675.JPEG',\n",
       " './data/images/n02115641/n02115641_9681.JPEG',\n",
       " './data/images/n02115641/n02115641_9685.JPEG',\n",
       " './data/images/n02115641/n02115641_9686.JPEG',\n",
       " './data/images/n02115641/n02115641_9693.JPEG',\n",
       " './data/images/n02115641/n02115641_970.JPEG',\n",
       " './data/images/n02115641/n02115641_9731.JPEG',\n",
       " './data/images/n02115913/n02115913_9847.JPEG',\n",
       " './data/images/n02115913/n02115913_9865.JPEG',\n",
       " './data/images/n02115913/n02115913_9871.JPEG',\n",
       " './data/images/n02115913/n02115913_9883.JPEG',\n",
       " './data/images/n02115913/n02115913_9884.JPEG',\n",
       " './data/images/n02115913/n02115913_9893.JPEG',\n",
       " './data/images/n02115913/n02115913_9910.JPEG',\n",
       " './data/images/n02115913/n02115913_9916.JPEG',\n",
       " './data/images/n02115913/n02115913_9923.JPEG',\n",
       " './data/images/n02116738/n02116738_9633.JPEG',\n",
       " './data/images/n02116738/n02116738_9673.JPEG',\n",
       " './data/images/n02116738/n02116738_9710.JPEG',\n",
       " './data/images/n02116738/n02116738_9748.JPEG',\n",
       " './data/images/n02116738/n02116738_9762.JPEG',\n",
       " './data/images/n02116738/n02116738_9769.JPEG',\n",
       " './data/images/n02116738/n02116738_9782.JPEG',\n",
       " './data/images/n02116738/n02116738_9798.JPEG',\n",
       " './data/images/n02116738/n02116738_9808.JPEG',\n",
       " './data/images/n02117135/n02117135_9800.JPEG',\n",
       " './data/images/n02117135/n02117135_9824.JPEG',\n",
       " './data/images/n02117135/n02117135_983.JPEG',\n",
       " './data/images/n02117135/n02117135_9840.JPEG',\n",
       " './data/images/n02117135/n02117135_9848.JPEG',\n",
       " './data/images/n02117135/n02117135_9852.JPEG',\n",
       " './data/images/n02117135/n02117135_9855.JPEG',\n",
       " './data/images/n02117135/n02117135_9857.JPEG',\n",
       " './data/images/n02117135/n02117135_9866.JPEG',\n",
       " './data/images/n02119022/n02119022_9773.JPEG',\n",
       " './data/images/n02119022/n02119022_9775.JPEG',\n",
       " './data/images/n02119022/n02119022_98.JPEG',\n",
       " './data/images/n02119022/n02119022_980.JPEG',\n",
       " './data/images/n02119022/n02119022_9810.JPEG',\n",
       " './data/images/n02119022/n02119022_9838.JPEG',\n",
       " './data/images/n02119022/n02119022_9859.JPEG',\n",
       " './data/images/n02119022/n02119022_9872.JPEG',\n",
       " './data/images/n02119022/n02119022_9873.JPEG',\n",
       " './data/images/n02119789/n02119789_9900.JPEG',\n",
       " './data/images/n02119789/n02119789_9911.JPEG',\n",
       " './data/images/n02119789/n02119789_9917.JPEG',\n",
       " './data/images/n02119789/n02119789_9919.JPEG',\n",
       " './data/images/n02119789/n02119789_9921.JPEG',\n",
       " './data/images/n02119789/n02119789_9923.JPEG',\n",
       " './data/images/n02119789/n02119789_9931.JPEG',\n",
       " './data/images/n02119789/n02119789_9933.JPEG',\n",
       " './data/images/n02119789/n02119789_9936.JPEG',\n",
       " './data/images/n02120079/n02120079_9719.JPEG',\n",
       " './data/images/n02120079/n02120079_9729.JPEG',\n",
       " './data/images/n02120079/n02120079_9750.JPEG',\n",
       " './data/images/n02120079/n02120079_9773.JPEG',\n",
       " './data/images/n02120079/n02120079_9799.JPEG',\n",
       " './data/images/n02120079/n02120079_9808.JPEG',\n",
       " './data/images/n02120079/n02120079_9821.JPEG',\n",
       " './data/images/n02120079/n02120079_9838.JPEG',\n",
       " './data/images/n02120079/n02120079_985.JPEG',\n",
       " './data/images/n02120505/n02120505_9654.JPEG',\n",
       " './data/images/n02120505/n02120505_9655.JPEG',\n",
       " './data/images/n02120505/n02120505_9671.JPEG',\n",
       " './data/images/n02120505/n02120505_9789.JPEG',\n",
       " './data/images/n02120505/n02120505_9795.JPEG',\n",
       " './data/images/n02120505/n02120505_9810.JPEG',\n",
       " './data/images/n02120505/n02120505_9811.JPEG',\n",
       " './data/images/n02120505/n02120505_9818.JPEG',\n",
       " './data/images/n02120505/n02120505_9824.JPEG',\n",
       " './data/images/n02123045/n02123045_9802.JPEG',\n",
       " './data/images/n02123045/n02123045_9813.JPEG',\n",
       " './data/images/n02123045/n02123045_9839.JPEG',\n",
       " './data/images/n02123045/n02123045_9845.JPEG',\n",
       " './data/images/n02123045/n02123045_987.JPEG',\n",
       " './data/images/n02123045/n02123045_9889.JPEG',\n",
       " './data/images/n02123045/n02123045_9893.JPEG',\n",
       " './data/images/n02123045/n02123045_9900.JPEG',\n",
       " './data/images/n02123045/n02123045_9901.JPEG',\n",
       " './data/images/n02123159/n02123159_9537.JPEG',\n",
       " './data/images/n02123159/n02123159_954.JPEG',\n",
       " './data/images/n02123159/n02123159_961.JPEG',\n",
       " './data/images/n02123159/n02123159_9620.JPEG',\n",
       " './data/images/n02123159/n02123159_9653.JPEG',\n",
       " './data/images/n02123159/n02123159_968.JPEG',\n",
       " './data/images/n02123159/n02123159_9693.JPEG',\n",
       " './data/images/n02123159/n02123159_9697.JPEG',\n",
       " './data/images/n02123159/n02123159_974.JPEG',\n",
       " './data/images/n02123394/n02123394_9646.JPEG',\n",
       " './data/images/n02123394/n02123394_9667.JPEG',\n",
       " './data/images/n02123394/n02123394_97.JPEG',\n",
       " './data/images/n02123394/n02123394_971.JPEG',\n",
       " './data/images/n02123394/n02123394_9730.JPEG',\n",
       " './data/images/n02123394/n02123394_975.JPEG',\n",
       " './data/images/n02123394/n02123394_976.JPEG',\n",
       " './data/images/n02123394/n02123394_9767.JPEG',\n",
       " './data/images/n02123394/n02123394_979.JPEG',\n",
       " './data/images/n02123597/n02123597_9668.JPEG',\n",
       " './data/images/n02123597/n02123597_9679.JPEG',\n",
       " './data/images/n02123597/n02123597_9700.JPEG',\n",
       " './data/images/n02123597/n02123597_974.JPEG',\n",
       " './data/images/n02123597/n02123597_9796.JPEG',\n",
       " './data/images/n02123597/n02123597_9816.JPEG',\n",
       " './data/images/n02123597/n02123597_9823.JPEG',\n",
       " './data/images/n02123597/n02123597_9842.JPEG',\n",
       " './data/images/n02123597/n02123597_9846.JPEG',\n",
       " './data/images/n02124075/n02124075_9774.JPEG',\n",
       " './data/images/n02124075/n02124075_9798.JPEG',\n",
       " './data/images/n02124075/n02124075_9830.JPEG',\n",
       " './data/images/n02124075/n02124075_9860.JPEG',\n",
       " './data/images/n02124075/n02124075_9869.JPEG',\n",
       " './data/images/n02124075/n02124075_9889.JPEG',\n",
       " './data/images/n02124075/n02124075_9894.JPEG',\n",
       " './data/images/n02124075/n02124075_990.JPEG',\n",
       " './data/images/n02124075/n02124075_9907.JPEG',\n",
       " './data/images/n02125311/n02125311_9502.JPEG',\n",
       " './data/images/n02125311/n02125311_9555.JPEG',\n",
       " './data/images/n02125311/n02125311_9566.JPEG',\n",
       " './data/images/n02125311/n02125311_9571.JPEG',\n",
       " './data/images/n02125311/n02125311_9575.JPEG',\n",
       " './data/images/n02125311/n02125311_9594.JPEG',\n",
       " './data/images/n02125311/n02125311_9605.JPEG',\n",
       " './data/images/n02125311/n02125311_9615.JPEG',\n",
       " './data/images/n02125311/n02125311_9616.JPEG',\n",
       " './data/images/n02127052/n02127052_9761.JPEG',\n",
       " './data/images/n02127052/n02127052_9765.JPEG',\n",
       " './data/images/n02127052/n02127052_9767.JPEG',\n",
       " './data/images/n02127052/n02127052_9783.JPEG',\n",
       " './data/images/n02127052/n02127052_9790.JPEG',\n",
       " './data/images/n02127052/n02127052_9795.JPEG',\n",
       " './data/images/n02127052/n02127052_9829.JPEG',\n",
       " './data/images/n02127052/n02127052_9853.JPEG',\n",
       " './data/images/n02127052/n02127052_9860.JPEG',\n",
       " './data/images/n02128385/n02128385_933.JPEG',\n",
       " './data/images/n02128385/n02128385_935.JPEG',\n",
       " './data/images/n02128385/n02128385_9363.JPEG',\n",
       " './data/images/n02128385/n02128385_9367.JPEG',\n",
       " './data/images/n02128385/n02128385_9400.JPEG',\n",
       " './data/images/n02128385/n02128385_9408.JPEG',\n",
       " './data/images/n02128385/n02128385_941.JPEG',\n",
       " './data/images/n02128385/n02128385_9452.JPEG',\n",
       " './data/images/n02128385/n02128385_9478.JPEG',\n",
       " './data/images/n02128757/n02128757_9796.JPEG',\n",
       " './data/images/n02128757/n02128757_9816.JPEG',\n",
       " './data/images/n02128757/n02128757_9856.JPEG',\n",
       " './data/images/n02128757/n02128757_986.JPEG',\n",
       " './data/images/n02128757/n02128757_9870.JPEG',\n",
       " './data/images/n02128757/n02128757_9887.JPEG',\n",
       " './data/images/n02128757/n02128757_9897.JPEG',\n",
       " './data/images/n02128757/n02128757_9910.JPEG',\n",
       " './data/images/n02128757/n02128757_9917.JPEG',\n",
       " './data/images/n02128925/n02128925_9482.JPEG',\n",
       " './data/images/n02128925/n02128925_9522.JPEG',\n",
       " './data/images/n02128925/n02128925_9536.JPEG',\n",
       " './data/images/n02128925/n02128925_9544.JPEG',\n",
       " './data/images/n02128925/n02128925_9577.JPEG',\n",
       " './data/images/n02128925/n02128925_9637.JPEG',\n",
       " './data/images/n02128925/n02128925_9680.JPEG',\n",
       " './data/images/n02128925/n02128925_9685.JPEG',\n",
       " './data/images/n02128925/n02128925_9688.JPEG',\n",
       " './data/images/n02129165/n02129165_9801.JPEG',\n",
       " './data/images/n02129165/n02129165_9811.JPEG',\n",
       " './data/images/n02129165/n02129165_9822.JPEG',\n",
       " './data/images/n02129165/n02129165_9834.JPEG',\n",
       " './data/images/n02129165/n02129165_9840.JPEG',\n",
       " './data/images/n02129165/n02129165_9852.JPEG',\n",
       " './data/images/n02129165/n02129165_9884.JPEG',\n",
       " './data/images/n02129165/n02129165_9889.JPEG',\n",
       " './data/images/n02129165/n02129165_9890.JPEG',\n",
       " './data/images/n02129604/n02129604_9840.JPEG',\n",
       " './data/images/n02129604/n02129604_9847.JPEG',\n",
       " './data/images/n02129604/n02129604_9861.JPEG',\n",
       " './data/images/n02129604/n02129604_989.JPEG',\n",
       " './data/images/n02129604/n02129604_9900.JPEG',\n",
       " './data/images/n02129604/n02129604_9901.JPEG',\n",
       " './data/images/n02129604/n02129604_9927.JPEG',\n",
       " './data/images/n02129604/n02129604_993.JPEG',\n",
       " './data/images/n02129604/n02129604_9931.JPEG',\n",
       " './data/images/n02130308/n02130308_9681.JPEG',\n",
       " './data/images/n02130308/n02130308_9714.JPEG',\n",
       " './data/images/n02130308/n02130308_9716.JPEG',\n",
       " './data/images/n02130308/n02130308_9737.JPEG',\n",
       " './data/images/n02130308/n02130308_974.JPEG',\n",
       " './data/images/n02130308/n02130308_9776.JPEG',\n",
       " './data/images/n02130308/n02130308_9808.JPEG',\n",
       " './data/images/n02130308/n02130308_9809.JPEG',\n",
       " './data/images/n02130308/n02130308_9836.JPEG',\n",
       " './data/images/n02132136/n02132136_9775.JPEG',\n",
       " './data/images/n02132136/n02132136_9792.JPEG',\n",
       " './data/images/n02132136/n02132136_9797.JPEG',\n",
       " './data/images/n02132136/n02132136_9807.JPEG',\n",
       " './data/images/n02132136/n02132136_981.JPEG',\n",
       " './data/images/n02132136/n02132136_9815.JPEG',\n",
       " './data/images/n02132136/n02132136_9816.JPEG',\n",
       " './data/images/n02132136/n02132136_9825.JPEG',\n",
       " './data/images/n02132136/n02132136_9829.JPEG',\n",
       " './data/images/n02133161/n02133161_9786.JPEG',\n",
       " './data/images/n02133161/n02133161_9809.JPEG',\n",
       " './data/images/n02133161/n02133161_9816.JPEG',\n",
       " './data/images/n02133161/n02133161_982.JPEG',\n",
       " './data/images/n02133161/n02133161_9827.JPEG',\n",
       " './data/images/n02133161/n02133161_9844.JPEG',\n",
       " './data/images/n02133161/n02133161_9863.JPEG',\n",
       " './data/images/n02133161/n02133161_987.JPEG',\n",
       " './data/images/n02133161/n02133161_9888.JPEG',\n",
       " './data/images/n02134084/n02134084_9648.JPEG',\n",
       " './data/images/n02134084/n02134084_965.JPEG',\n",
       " './data/images/n02134084/n02134084_9659.JPEG',\n",
       " './data/images/n02134084/n02134084_967.JPEG',\n",
       " './data/images/n02134084/n02134084_9722.JPEG',\n",
       " './data/images/n02134084/n02134084_973.JPEG',\n",
       " './data/images/n02134084/n02134084_9730.JPEG',\n",
       " './data/images/n02134084/n02134084_9774.JPEG',\n",
       " './data/images/n02134084/n02134084_9778.JPEG',\n",
       " './data/images/n02134418/n02134418_961.JPEG',\n",
       " './data/images/n02134418/n02134418_962.JPEG',\n",
       " './data/images/n02134418/n02134418_965.JPEG',\n",
       " './data/images/n02134418/n02134418_966.JPEG',\n",
       " './data/images/n02134418/n02134418_967.JPEG',\n",
       " './data/images/n02134418/n02134418_9673.JPEG',\n",
       " './data/images/n02134418/n02134418_971.JPEG',\n",
       " './data/images/n02134418/n02134418_972.JPEG',\n",
       " './data/images/n02134418/n02134418_9766.JPEG',\n",
       " './data/images/n02137549/n02137549_9836.JPEG',\n",
       " './data/images/n02137549/n02137549_9859.JPEG',\n",
       " './data/images/n02137549/n02137549_9861.JPEG',\n",
       " './data/images/n02137549/n02137549_9889.JPEG',\n",
       " './data/images/n02137549/n02137549_9893.JPEG',\n",
       " './data/images/n02137549/n02137549_99.JPEG',\n",
       " './data/images/n02137549/n02137549_9909.JPEG',\n",
       " './data/images/n02137549/n02137549_9911.JPEG',\n",
       " './data/images/n02137549/n02137549_9923.JPEG',\n",
       " './data/images/n02138441/n02138441_9454.JPEG',\n",
       " './data/images/n02138441/n02138441_946.JPEG',\n",
       " './data/images/n02138441/n02138441_9512.JPEG',\n",
       " './data/images/n02138441/n02138441_953.JPEG',\n",
       " './data/images/n02138441/n02138441_9532.JPEG',\n",
       " './data/images/n02138441/n02138441_9545.JPEG',\n",
       " './data/images/n02138441/n02138441_955.JPEG',\n",
       " './data/images/n02138441/n02138441_9613.JPEG',\n",
       " './data/images/n02138441/n02138441_9633.JPEG',\n",
       " './data/images/n02165105/n02165105_9834.JPEG',\n",
       " './data/images/n02165105/n02165105_984.JPEG',\n",
       " './data/images/n02165105/n02165105_9844.JPEG',\n",
       " './data/images/n02165105/n02165105_9863.JPEG',\n",
       " './data/images/n02165105/n02165105_9868.JPEG',\n",
       " './data/images/n02165105/n02165105_987.JPEG',\n",
       " './data/images/n02165105/n02165105_9879.JPEG',\n",
       " './data/images/n02165105/n02165105_99.JPEG',\n",
       " './data/images/n02165105/n02165105_990.JPEG',\n",
       " './data/images/n02165456/n02165456_9652.JPEG',\n",
       " './data/images/n02165456/n02165456_9681.JPEG',\n",
       " './data/images/n02165456/n02165456_9691.JPEG',\n",
       " './data/images/n02165456/n02165456_9695.JPEG',\n",
       " './data/images/n02165456/n02165456_9729.JPEG',\n",
       " './data/images/n02165456/n02165456_9747.JPEG',\n",
       " './data/images/n02165456/n02165456_9754.JPEG',\n",
       " './data/images/n02165456/n02165456_9761.JPEG',\n",
       " './data/images/n02165456/n02165456_9804.JPEG',\n",
       " './data/images/n02167151/n02167151_9873.JPEG',\n",
       " './data/images/n02167151/n02167151_9886.JPEG',\n",
       " './data/images/n02167151/n02167151_989.JPEG',\n",
       " './data/images/n02167151/n02167151_9891.JPEG',\n",
       " './data/images/n02167151/n02167151_990.JPEG',\n",
       " './data/images/n02167151/n02167151_9912.JPEG',\n",
       " './data/images/n02167151/n02167151_9927.JPEG',\n",
       " './data/images/n02167151/n02167151_9929.JPEG',\n",
       " './data/images/n02167151/n02167151_993.JPEG',\n",
       " './data/images/n02168699/n02168699_946.JPEG',\n",
       " './data/images/n02168699/n02168699_9481.JPEG',\n",
       " './data/images/n02168699/n02168699_9499.JPEG',\n",
       " './data/images/n02168699/n02168699_9512.JPEG',\n",
       " './data/images/n02168699/n02168699_954.JPEG',\n",
       " './data/images/n02168699/n02168699_955.JPEG',\n",
       " './data/images/n02168699/n02168699_963.JPEG',\n",
       " './data/images/n02168699/n02168699_9642.JPEG',\n",
       " './data/images/n02168699/n02168699_965.JPEG',\n",
       " './data/images/n02169497/n02169497_9548.JPEG',\n",
       " './data/images/n02169497/n02169497_9604.JPEG',\n",
       " './data/images/n02169497/n02169497_961.JPEG',\n",
       " './data/images/n02169497/n02169497_9613.JPEG',\n",
       " './data/images/n02169497/n02169497_964.JPEG',\n",
       " './data/images/n02169497/n02169497_9664.JPEG',\n",
       " './data/images/n02169497/n02169497_9678.JPEG',\n",
       " './data/images/n02169497/n02169497_9737.JPEG',\n",
       " './data/images/n02169497/n02169497_9750.JPEG',\n",
       " './data/images/n02172182/n02172182_959.JPEG',\n",
       " './data/images/n02172182/n02172182_9674.JPEG',\n",
       " './data/images/n02172182/n02172182_970.JPEG',\n",
       " './data/images/n02172182/n02172182_9730.JPEG',\n",
       " './data/images/n02172182/n02172182_974.JPEG',\n",
       " './data/images/n02172182/n02172182_9765.JPEG',\n",
       " './data/images/n02172182/n02172182_9789.JPEG',\n",
       " './data/images/n02172182/n02172182_98.JPEG',\n",
       " './data/images/n02172182/n02172182_981.JPEG']"
      ]
     },
     "execution_count": 5,
     "metadata": {},
     "output_type": "execute_result"
    }
   ],
   "source": [
    "test_imgs"
   ]
  },
  {
   "cell_type": "code",
   "execution_count": 6,
   "metadata": {},
   "outputs": [],
   "source": [
    "train_hog = np.array(cv2hog(train_imgs))\n",
    "val_hog = np.array(cv2hog(val_imgs))\n",
    "test_hog = np.array(cv2hog(test_imgs))"
   ]
  },
  {
   "cell_type": "code",
   "execution_count": 5,
   "metadata": {},
   "outputs": [
    {
     "name": "stdout",
     "output_type": "stream",
     "text": [
      "(63325, 1764)\n",
      "(63325,)\n",
      "(450, 1764)\n",
      "(450,)\n",
      "(450, 1764)\n",
      "(450,)\n"
     ]
    }
   ],
   "source": [
    "print(np.shape(train_hog))\n",
    "print(np.shape(train_y))\n",
    "print(np.shape(val_hog))\n",
    "print(np.shape(val_y))\n",
    "print(np.shape(test_hog))\n",
    "print(np.shape(test_y))"
   ]
  },
  {
   "cell_type": "code",
   "execution_count": 14,
   "metadata": {},
   "outputs": [],
   "source": [
    "train_hog = train_hog.reshape(63325, 1764)\n",
    "val_hog = val_hog.reshape(450, 1764)\n",
    "test_hog = test_hog.reshape(450, 1764)"
   ]
  },
  {
   "cell_type": "code",
   "execution_count": 6,
   "metadata": {},
   "outputs": [
    {
     "name": "stdout",
     "output_type": "stream",
     "text": [
      "<class 'numpy.ndarray'>\n",
      "<class 'numpy.ndarray'>\n",
      "<class 'numpy.ndarray'>\n",
      "<class 'numpy.ndarray'>\n",
      "<class 'numpy.ndarray'>\n",
      "<class 'numpy.ndarray'>\n"
     ]
    }
   ],
   "source": [
    "print(type(train_hog))\n",
    "print(type(train_y))\n",
    "print(type(test_hog))\n",
    "print(type(test_y))\n",
    "print(type(val_hog))\n",
    "print(type(val_y))"
   ]
  },
  {
   "cell_type": "code",
   "execution_count": 9,
   "metadata": {},
   "outputs": [],
   "source": [
    "train_y = np.array(train_y)\n",
    "val_y = np.array(val_y)\n",
    "test_y = np.array(test_y)"
   ]
  },
  {
   "cell_type": "code",
   "execution_count": 17,
   "metadata": {},
   "outputs": [],
   "source": [
    "np.save('train_hog.npy', train_hog)\n",
    "np.save('train_y.npy', train_y)\n",
    "np.save('val_hog.npy', val_hog)\n",
    "np.save('val_y.npy', val_y)\n",
    "np.save('test_hog.npy', test_hog)\n",
    "np.save('test_y.npy', test_y)"
   ]
  },
  {
   "cell_type": "code",
   "execution_count": 4,
   "metadata": {},
   "outputs": [],
   "source": [
    "test_hog = np.load('./test_hog.npy')\n",
    "test_y = np.load('./test_y.npy')\n",
    "train_hog = np.load('./train_hog.npy')\n",
    "train_y = np.load('./train_y.npy')\n",
    "val_hog = np.load('./val_hog.npy')\n",
    "val_y = np.load('./val_y.npy')"
   ]
  },
  {
   "cell_type": "code",
   "execution_count": 7,
   "metadata": {},
   "outputs": [],
   "source": [
    "from sklearn.ensemble import RandomForestClassifier"
   ]
  },
  {
   "cell_type": "code",
   "execution_count": 22,
   "metadata": {
    "scrolled": true
   },
   "outputs": [
    {
     "name": "stdout",
     "output_type": "stream",
     "text": [
      "[0.10831746 0.12597914 0.13383391 ... 0.25205755 0.25205755 0.25205755]\n"
     ]
    }
   ],
   "source": [
    "print(train_hog[1])"
   ]
  },
  {
   "cell_type": "code",
   "execution_count": 34,
   "metadata": {},
   "outputs": [
    {
     "name": "stdout",
     "output_type": "stream",
     "text": [
      "158.3125\n",
      "63.325\n"
     ]
    }
   ],
   "source": [
    "print(63325*0.0025)\n",
    "print(63325*0.001)"
   ]
  },
  {
   "cell_type": "code",
   "execution_count": 61,
   "metadata": {},
   "outputs": [
    {
     "data": {
      "text/plain": [
       "RandomForestClassifier(criterion='entropy', min_samples_leaf=30,\n",
       "                       min_samples_split=150, n_estimators=42)"
      ]
     },
     "execution_count": 61,
     "metadata": {},
     "output_type": "execute_result"
    }
   ],
   "source": [
    "rf_clf = RandomForestClassifier(n_estimators=42, criterion='entropy', min_samples_split=150, min_samples_leaf=30)\n",
    "rf_clf.fit(train_hog, train_y)"
   ]
  },
  {
   "cell_type": "code",
   "execution_count": 65,
   "metadata": {},
   "outputs": [],
   "source": [
    "from sklearn.model_selection import GridSearchCV"
   ]
  },
  {
   "cell_type": "code",
   "execution_count": 68,
   "metadata": {},
   "outputs": [],
   "source": [
    "# https://towardsdatascience.com/hyperparameter-tuning-the-random-forest-in-python-using-scikit-learn-28d2aa77dd74\n",
    "# Create the parameter grid based on the results of random search \n",
    "param_grid = {\n",
    "    'criterion': ['entropy'],\n",
    "    'bootstrap': [True],\n",
    "    #'max_depth': [30, 50, 70],\n",
    "    'min_samples_leaf': [10, 30, 50],\n",
    "    'min_samples_split': [60, 100, 200],\n",
    "    'n_estimators': [42, 100, 200]\n",
    "}\n",
    "# Create a based model\n",
    "rf = RandomForestClassifier()\n",
    "# Instantiate the grid search model\n",
    "grid_search = GridSearchCV(estimator = rf, param_grid = param_grid, \n",
    "                          cv = 3, n_jobs = 6, verbose = 4)"
   ]
  },
  {
   "cell_type": "code",
   "execution_count": 69,
   "metadata": {
    "scrolled": false
   },
   "outputs": [
    {
     "name": "stdout",
     "output_type": "stream",
     "text": [
      "Fitting 3 folds for each of 27 candidates, totalling 81 fits\n"
     ]
    },
    {
     "name": "stderr",
     "output_type": "stream",
     "text": [
      "[Parallel(n_jobs=6)]: Using backend LokyBackend with 6 concurrent workers.\n",
      "[Parallel(n_jobs=6)]: Done  13 tasks      | elapsed: 144.6min\n",
      "[Parallel(n_jobs=6)]: Done  81 out of  81 | elapsed: 901.7min finished\n"
     ]
    },
    {
     "data": {
      "text/plain": [
       "GridSearchCV(cv=3, estimator=RandomForestClassifier(), n_jobs=6,\n",
       "             param_grid={'bootstrap': [True], 'criterion': ['entropy'],\n",
       "                         'min_samples_leaf': [10, 30, 50],\n",
       "                         'min_samples_split': [60, 100, 200],\n",
       "                         'n_estimators': [42, 100, 200]},\n",
       "             verbose=4)"
      ]
     },
     "execution_count": 69,
     "metadata": {},
     "output_type": "execute_result"
    }
   ],
   "source": [
    "grid_search.fit(train_hog, train_y)"
   ]
  },
  {
   "cell_type": "code",
   "execution_count": 10,
   "metadata": {},
   "outputs": [],
   "source": [
    "import joblib\n",
    "# https://stackoverflow.com/questions/51424312/how-to-save-gridsearchcv-object\n",
    "#save your model or results\n",
    "# joblib.dump(grid_search, 'grid_search1.pkl')\n",
    "\n",
    "#load your model for further usage\n",
    "grid_search = joblib.load(\"grid_search1.pkl\")"
   ]
  },
  {
   "cell_type": "code",
   "execution_count": 11,
   "metadata": {},
   "outputs": [
    {
     "name": "stdout",
     "output_type": "stream",
     "text": [
      "    mean_fit_time  std_fit_time  mean_score_time  std_score_time  \\\n",
      "0     1516.603474      7.620692         1.025770        0.012320   \n",
      "1     3620.778766     16.162968         2.119717        0.020914   \n",
      "2     7217.565835     46.357504         4.226512        0.097903   \n",
      "3     1470.730996     15.318884         0.915171        0.015874   \n",
      "4     3532.512791     29.523535         2.198563        0.093412   \n",
      "5     7035.881874     25.881440         4.030731        0.069327   \n",
      "6     1398.279723      2.233094         0.894465        0.066068   \n",
      "7     3353.153974      4.986882         2.059710        0.117003   \n",
      "8     6637.047816     11.974087         3.737543        0.017128   \n",
      "9     1440.925207      4.022443         0.903127        0.009549   \n",
      "10    3424.138032      7.807457         2.066025        0.033078   \n",
      "11    6823.665420     16.377056         4.056187        0.058545   \n",
      "12    1419.499871      5.084598         0.895637        0.009237   \n",
      "13    3371.248297      6.770593         1.990074        0.004535   \n",
      "14    6750.160010     47.285323         3.954773        0.017890   \n",
      "15    1373.584337      7.143477         0.853898        0.005165   \n",
      "16    3234.043789     20.476563         2.004467        0.133359   \n",
      "17    6456.085678     45.688754         3.684542        0.015931   \n",
      "18    1363.230752      7.271717         0.872300        0.007768   \n",
      "19    3212.825207     14.482584         1.977761        0.013638   \n",
      "20    6420.176037     21.052467         3.883882        0.011381   \n",
      "21    1360.808984      5.335648         0.857276        0.012690   \n",
      "22    3210.076653     23.099800         1.968394        0.021993   \n",
      "23    6413.746361     17.692461         3.879883        0.016711   \n",
      "24    1320.770311     11.004739         0.831235        0.011998   \n",
      "25    3147.656968      7.184476         1.891469        0.014846   \n",
      "26    6305.104714     41.442154         3.636899        0.057884   \n",
      "\n",
      "   param_bootstrap param_criterion param_min_samples_leaf  \\\n",
      "0             True         entropy                     10   \n",
      "1             True         entropy                     10   \n",
      "2             True         entropy                     10   \n",
      "3             True         entropy                     10   \n",
      "4             True         entropy                     10   \n",
      "5             True         entropy                     10   \n",
      "6             True         entropy                     10   \n",
      "7             True         entropy                     10   \n",
      "8             True         entropy                     10   \n",
      "9             True         entropy                     30   \n",
      "10            True         entropy                     30   \n",
      "11            True         entropy                     30   \n",
      "12            True         entropy                     30   \n",
      "13            True         entropy                     30   \n",
      "14            True         entropy                     30   \n",
      "15            True         entropy                     30   \n",
      "16            True         entropy                     30   \n",
      "17            True         entropy                     30   \n",
      "18            True         entropy                     50   \n",
      "19            True         entropy                     50   \n",
      "20            True         entropy                     50   \n",
      "21            True         entropy                     50   \n",
      "22            True         entropy                     50   \n",
      "23            True         entropy                     50   \n",
      "24            True         entropy                     50   \n",
      "25            True         entropy                     50   \n",
      "26            True         entropy                     50   \n",
      "\n",
      "   param_min_samples_split param_n_estimators  \\\n",
      "0                       60                 42   \n",
      "1                       60                100   \n",
      "2                       60                200   \n",
      "3                      100                 42   \n",
      "4                      100                100   \n",
      "5                      100                200   \n",
      "6                      200                 42   \n",
      "7                      200                100   \n",
      "8                      200                200   \n",
      "9                       60                 42   \n",
      "10                      60                100   \n",
      "11                      60                200   \n",
      "12                     100                 42   \n",
      "13                     100                100   \n",
      "14                     100                200   \n",
      "15                     200                 42   \n",
      "16                     200                100   \n",
      "17                     200                200   \n",
      "18                      60                 42   \n",
      "19                      60                100   \n",
      "20                      60                200   \n",
      "21                     100                 42   \n",
      "22                     100                100   \n",
      "23                     100                200   \n",
      "24                     200                 42   \n",
      "25                     200                100   \n",
      "26                     200                200   \n",
      "\n",
      "                                               params  split0_test_score  \\\n",
      "0   {'bootstrap': True, 'criterion': 'entropy', 'm...           0.040078   \n",
      "1   {'bootstrap': True, 'criterion': 'entropy', 'm...           0.044010   \n",
      "2   {'bootstrap': True, 'criterion': 'entropy', 'm...           0.045099   \n",
      "3   {'bootstrap': True, 'criterion': 'entropy', 'm...           0.041499   \n",
      "4   {'bootstrap': True, 'criterion': 'entropy', 'm...           0.046189   \n",
      "5   {'bootstrap': True, 'criterion': 'entropy', 'm...           0.046994   \n",
      "6   {'bootstrap': True, 'criterion': 'entropy', 'm...           0.040741   \n",
      "7   {'bootstrap': True, 'criterion': 'entropy', 'm...           0.045194   \n",
      "8   {'bootstrap': True, 'criterion': 'entropy', 'm...           0.045668   \n",
      "9   {'bootstrap': True, 'criterion': 'entropy', 'm...           0.040551   \n",
      "10  {'bootstrap': True, 'criterion': 'entropy', 'm...           0.043110   \n",
      "11  {'bootstrap': True, 'criterion': 'entropy', 'm...           0.046805   \n",
      "12  {'bootstrap': True, 'criterion': 'entropy', 'm...           0.042446   \n",
      "13  {'bootstrap': True, 'criterion': 'entropy', 'm...           0.041546   \n",
      "14  {'bootstrap': True, 'criterion': 'entropy', 'm...           0.045289   \n",
      "15  {'bootstrap': True, 'criterion': 'entropy', 'm...           0.043441   \n",
      "16  {'bootstrap': True, 'criterion': 'entropy', 'm...           0.044768   \n",
      "17  {'bootstrap': True, 'criterion': 'entropy', 'm...           0.046663   \n",
      "18  {'bootstrap': True, 'criterion': 'entropy', 'm...           0.039983   \n",
      "19  {'bootstrap': True, 'criterion': 'entropy', 'm...           0.046094   \n",
      "20  {'bootstrap': True, 'criterion': 'entropy', 'm...           0.044862   \n",
      "21  {'bootstrap': True, 'criterion': 'entropy', 'm...           0.042352   \n",
      "22  {'bootstrap': True, 'criterion': 'entropy', 'm...           0.043915   \n",
      "23  {'bootstrap': True, 'criterion': 'entropy', 'm...           0.047373   \n",
      "24  {'bootstrap': True, 'criterion': 'entropy', 'm...           0.039983   \n",
      "25  {'bootstrap': True, 'criterion': 'entropy', 'm...           0.044673   \n",
      "26  {'bootstrap': True, 'criterion': 'entropy', 'm...           0.043110   \n",
      "\n",
      "    split1_test_score  split2_test_score  mean_test_score  std_test_score  \\\n",
      "0            0.040601           0.042875         0.041184        0.001214   \n",
      "1            0.043822           0.043538         0.043790        0.000194   \n",
      "2            0.046949           0.046902         0.046317        0.000861   \n",
      "3            0.040885           0.041217         0.041200        0.000251   \n",
      "4            0.046570           0.043775         0.045511        0.001238   \n",
      "5            0.045670           0.047044         0.046569        0.000636   \n",
      "6            0.042448           0.043159         0.042116        0.001015   \n",
      "7            0.044912           0.047233         0.045780        0.001034   \n",
      "8            0.046333           0.046523         0.046175        0.000367   \n",
      "9            0.040127           0.039795         0.040158        0.000309   \n",
      "10           0.044106           0.045480         0.044232        0.000972   \n",
      "11           0.046570           0.045907         0.046427        0.000380   \n",
      "12           0.042733           0.040506         0.041895        0.000989   \n",
      "13           0.045670           0.043491         0.043569        0.001684   \n",
      "14           0.046760           0.046333         0.046127        0.000618   \n",
      "15           0.044059           0.043727         0.043743        0.000252   \n",
      "16           0.046381           0.045859         0.045669        0.000672   \n",
      "17           0.047802           0.045717         0.046727        0.000852   \n",
      "18           0.042496           0.042164         0.041548        0.001115   \n",
      "19           0.045528           0.047944         0.046522        0.001032   \n",
      "20           0.047991           0.046381         0.046411        0.001278   \n",
      "21           0.042022           0.042969         0.042448        0.000393   \n",
      "22           0.044486           0.044249         0.044216        0.000234   \n",
      "23           0.046523           0.046760         0.046885        0.000358   \n",
      "24           0.042590           0.042543         0.041706        0.001218   \n",
      "25           0.044343           0.046807         0.045274        0.001092   \n",
      "26           0.044722           0.045859         0.044564        0.001128   \n",
      "\n",
      "    rank_test_score  \n",
      "0                26  \n",
      "1                17  \n",
      "2                 7  \n",
      "3                25  \n",
      "4                12  \n",
      "5                 3  \n",
      "6                21  \n",
      "7                10  \n",
      "8                 8  \n",
      "9                27  \n",
      "10               15  \n",
      "11                5  \n",
      "12               22  \n",
      "13               19  \n",
      "14                9  \n",
      "15               18  \n",
      "16               11  \n",
      "17                2  \n",
      "18               24  \n",
      "19                4  \n",
      "20                6  \n",
      "21               20  \n",
      "22               16  \n",
      "23                1  \n",
      "24               23  \n",
      "25               13  \n",
      "26               14  \n"
     ]
    }
   ],
   "source": [
    "#https://stackoverflow.com/questions/58835592/result-of-gridsearchcv-as-table\n",
    "df = pd.DataFrame(grid_search.cv_results_)\n",
    "print(df)"
   ]
  },
  {
   "cell_type": "code",
   "execution_count": 12,
   "metadata": {},
   "outputs": [
    {
     "name": "stdout",
     "output_type": "stream",
     "text": [
      "0.05333333333333334\n",
      "0.7503671535728386\n",
      "0.057777777777777775\n"
     ]
    }
   ],
   "source": [
    "print(np.mean(grid_search.predict(val_hog)==val_y))\n",
    "print(np.mean(grid_search.predict(train_hog)==train_y))\n",
    "print(np.mean(grid_search.predict(test_hog)==test_y))"
   ]
  },
  {
   "cell_type": "code",
   "execution_count": 62,
   "metadata": {},
   "outputs": [
    {
     "data": {
      "text/plain": [
       "0.051111111111111114"
      ]
     },
     "execution_count": 62,
     "metadata": {},
     "output_type": "execute_result"
    }
   ],
   "source": [
    "np.mean(rf_clf.predict(val_hog)==val_y)"
   ]
  },
  {
   "cell_type": "code",
   "execution_count": 63,
   "metadata": {},
   "outputs": [
    {
     "data": {
      "text/plain": [
       "0.4475167785234899"
      ]
     },
     "execution_count": 63,
     "metadata": {},
     "output_type": "execute_result"
    }
   ],
   "source": [
    "np.mean(rf_clf.predict(train_hog)==train_y)"
   ]
  },
  {
   "cell_type": "code",
   "execution_count": 64,
   "metadata": {},
   "outputs": [
    {
     "data": {
      "text/plain": [
       "0.03111111111111111"
      ]
     },
     "execution_count": 64,
     "metadata": {},
     "output_type": "execute_result"
    }
   ],
   "source": [
    "np.mean(rf_clf.predict(test_hog)==test_y)"
   ]
  },
  {
   "cell_type": "code",
   "execution_count": 13,
   "metadata": {},
   "outputs": [],
   "source": [
    "%matplotlib inline"
   ]
  },
  {
   "cell_type": "code",
   "execution_count": 90,
   "metadata": {},
   "outputs": [],
   "source": [
    "from sklearn.svm import SVC"
   ]
  },
  {
   "cell_type": "code",
   "execution_count": 92,
   "metadata": {},
   "outputs": [],
   "source": [
    "# https://scikit-learn.org/stable/modules/generated/sklearn.svm.SVC.html\n",
    "svm = SVC(kernel='rbf',gamma='scale', max_iter=-1, probability=True)"
   ]
  },
  {
   "cell_type": "code",
   "execution_count": 24,
   "metadata": {},
   "outputs": [
    {
     "ename": "NameError",
     "evalue": "name 'svm' is not defined",
     "output_type": "error",
     "traceback": [
      "\u001b[0;31m---------------------------------------------------------------------------\u001b[0m",
      "\u001b[0;31mNameError\u001b[0m                                 Traceback (most recent call last)",
      "\u001b[0;32m<ipython-input-24-0d7e1c784194>\u001b[0m in \u001b[0;36m<module>\u001b[0;34m\u001b[0m\n\u001b[0;32m----> 1\u001b[0;31m \u001b[0msvm\u001b[0m\u001b[0;34m.\u001b[0m\u001b[0mfit\u001b[0m\u001b[0;34m(\u001b[0m\u001b[0mtrain_hog\u001b[0m\u001b[0;34m,\u001b[0m \u001b[0mtrain_y\u001b[0m\u001b[0;34m)\u001b[0m\u001b[0;34m\u001b[0m\u001b[0;34m\u001b[0m\u001b[0m\n\u001b[0m",
      "\u001b[0;31mNameError\u001b[0m: name 'svm' is not defined"
     ]
    }
   ],
   "source": [
    "svm.fit(train_hog, train_y)"
   ]
  },
  {
   "cell_type": "code",
   "execution_count": 23,
   "metadata": {},
   "outputs": [
    {
     "ename": "NameError",
     "evalue": "name 'svm' is not defined",
     "output_type": "error",
     "traceback": [
      "\u001b[0;31m---------------------------------------------------------------------------\u001b[0m",
      "\u001b[0;31mNameError\u001b[0m                                 Traceback (most recent call last)",
      "\u001b[0;32m<ipython-input-23-879fbb89b034>\u001b[0m in \u001b[0;36m<module>\u001b[0;34m\u001b[0m\n\u001b[0;32m----> 1\u001b[0;31m \u001b[0mprint\u001b[0m\u001b[0;34m(\u001b[0m\u001b[0mnp\u001b[0m\u001b[0;34m.\u001b[0m\u001b[0mmean\u001b[0m\u001b[0;34m(\u001b[0m\u001b[0msvm\u001b[0m\u001b[0;34m.\u001b[0m\u001b[0mpredict\u001b[0m\u001b[0;34m(\u001b[0m\u001b[0mval_hog\u001b[0m\u001b[0;34m)\u001b[0m\u001b[0;34m==\u001b[0m\u001b[0mval_y\u001b[0m\u001b[0;34m)\u001b[0m\u001b[0;34m)\u001b[0m\u001b[0;34m\u001b[0m\u001b[0;34m\u001b[0m\u001b[0m\n\u001b[0m\u001b[1;32m      2\u001b[0m \u001b[0mprint\u001b[0m\u001b[0;34m(\u001b[0m\u001b[0mnp\u001b[0m\u001b[0;34m.\u001b[0m\u001b[0mmean\u001b[0m\u001b[0;34m(\u001b[0m\u001b[0msvm\u001b[0m\u001b[0;34m.\u001b[0m\u001b[0mpredict\u001b[0m\u001b[0;34m(\u001b[0m\u001b[0mtrain_hog\u001b[0m\u001b[0;34m)\u001b[0m\u001b[0;34m==\u001b[0m\u001b[0mtrain_y\u001b[0m\u001b[0;34m)\u001b[0m\u001b[0;34m)\u001b[0m\u001b[0;34m\u001b[0m\u001b[0;34m\u001b[0m\u001b[0m\n\u001b[1;32m      3\u001b[0m \u001b[0mprint\u001b[0m\u001b[0;34m(\u001b[0m\u001b[0mnp\u001b[0m\u001b[0;34m.\u001b[0m\u001b[0mmean\u001b[0m\u001b[0;34m(\u001b[0m\u001b[0msvm\u001b[0m\u001b[0;34m.\u001b[0m\u001b[0mpredict\u001b[0m\u001b[0;34m(\u001b[0m\u001b[0mtest_hog\u001b[0m\u001b[0;34m)\u001b[0m\u001b[0;34m==\u001b[0m\u001b[0mtest_y\u001b[0m\u001b[0;34m)\u001b[0m\u001b[0;34m)\u001b[0m\u001b[0;34m\u001b[0m\u001b[0;34m\u001b[0m\u001b[0m\n",
      "\u001b[0;31mNameError\u001b[0m: name 'svm' is not defined"
     ]
    }
   ],
   "source": [
    "print(np.mean(svm.predict(val_hog)==val_y))\n",
    "print(np.mean(svm.predict(train_hog)==train_y))\n",
    "print(np.mean(svm.predict(test_hog)==test_y))"
   ]
  },
  {
   "cell_type": "code",
   "execution_count": null,
   "metadata": {},
   "outputs": [],
   "source": []
  },
  {
   "cell_type": "code",
   "execution_count": 21,
   "metadata": {},
   "outputs": [
    {
     "data": {
      "text/plain": [
       "'0.23.2'"
      ]
     },
     "execution_count": 21,
     "metadata": {},
     "output_type": "execute_result"
    }
   ],
   "source": [
    "from sklearn import __version__\n",
    "__version__"
   ]
  },
  {
   "cell_type": "code",
   "execution_count": 22,
   "metadata": {},
   "outputs": [
    {
     "data": {
      "text/plain": [
       "'0.23.2'"
      ]
     },
     "execution_count": 22,
     "metadata": {},
     "output_type": "execute_result"
    }
   ],
   "source": [
    "sklearn.__version__"
   ]
  },
  {
   "cell_type": "code",
   "execution_count": 18,
   "metadata": {},
   "outputs": [
    {
     "ename": "ImportError",
     "evalue": "cannot import name 'top_k_accuracy_score'",
     "output_type": "error",
     "traceback": [
      "\u001b[0;31m---------------------------------------------------------------------------\u001b[0m",
      "\u001b[0;31mImportError\u001b[0m                               Traceback (most recent call last)",
      "\u001b[0;32m<ipython-input-18-aca431fc197d>\u001b[0m in \u001b[0;36m<module>\u001b[0;34m\u001b[0m\n\u001b[0;32m----> 1\u001b[0;31m \u001b[0;32mfrom\u001b[0m \u001b[0msklearn\u001b[0m\u001b[0;34m.\u001b[0m\u001b[0mmetrics\u001b[0m \u001b[0;32mimport\u001b[0m \u001b[0mtop_k_accuracy_score\u001b[0m\u001b[0;34m\u001b[0m\u001b[0;34m\u001b[0m\u001b[0m\n\u001b[0m",
      "\u001b[0;31mImportError\u001b[0m: cannot import name 'top_k_accuracy_score'"
     ]
    }
   ],
   "source": [
    "from sklearn.metrics import top_k_accuracy_score"
   ]
  },
  {
   "cell_type": "code",
   "execution_count": null,
   "metadata": {},
   "outputs": [],
   "source": []
  },
  {
   "cell_type": "code",
   "execution_count": null,
   "metadata": {},
   "outputs": [],
   "source": []
  },
  {
   "cell_type": "code",
   "execution_count": 75,
   "metadata": {},
   "outputs": [],
   "source": [
    "from sklearn import linear_model\n",
    "\n",
    "# 大量資料用SVM沒有效率\n",
    "# 用PCA是不是也是\n",
    "# 所以通常會先用Lasso降維\n",
    "# random state 是什麼"
   ]
  },
  {
   "cell_type": "code",
   "execution_count": 77,
   "metadata": {},
   "outputs": [
    {
     "data": {
      "text/plain": [
       "Lasso(alpha=1)"
      ]
     },
     "execution_count": 77,
     "metadata": {},
     "output_type": "execute_result"
    }
   ],
   "source": [
    "las_clf = linear_model.Lasso(alpha=1, fit_intercept=True, normalize=False)\n",
    "las_clf.fit(train_hog, train_y)\n"
   ]
  },
  {
   "cell_type": "code",
   "execution_count": 79,
   "metadata": {},
   "outputs": [
    {
     "name": "stdout",
     "output_type": "stream",
     "text": [
      "[-0.  0.  0. ...  0.  0. -0.]\n",
      "24.674772\n"
     ]
    }
   ],
   "source": [
    "print(las_clf.coef_)\n",
    "print(las_clf.intercept_)"
   ]
  },
  {
   "cell_type": "code",
   "execution_count": 89,
   "metadata": {},
   "outputs": [
    {
     "data": {
      "text/plain": [
       "(array([], dtype=int64),)"
      ]
     },
     "execution_count": 89,
     "metadata": {},
     "output_type": "execute_result"
    }
   ],
   "source": [
    "np.where(las_clf.coef_!=0)"
   ]
  },
  {
   "cell_type": "code",
   "execution_count": 80,
   "metadata": {},
   "outputs": [
    {
     "name": "stderr",
     "output_type": "stream",
     "text": [
      "/usr/local/lib/python3.6/dist-packages/ipykernel_launcher.py:1: FutureWarning: elementwise comparison failed; returning scalar instead, but in the future will perform elementwise comparison\n",
      "  \"\"\"Entry point for launching an IPython kernel.\n"
     ]
    },
    {
     "name": "stdout",
     "output_type": "stream",
     "text": [
      "0.0\n",
      "0.0\n",
      "0.0\n"
     ]
    },
    {
     "name": "stderr",
     "output_type": "stream",
     "text": [
      "/usr/local/lib/python3.6/dist-packages/ipykernel_launcher.py:2: FutureWarning: elementwise comparison failed; returning scalar instead, but in the future will perform elementwise comparison\n",
      "  \n",
      "/usr/local/lib/python3.6/dist-packages/ipykernel_launcher.py:3: FutureWarning: elementwise comparison failed; returning scalar instead, but in the future will perform elementwise comparison\n",
      "  This is separate from the ipykernel package so we can avoid doing imports until\n"
     ]
    }
   ],
   "source": [
    "print(np.mean(las_clf.predict(val_hog)==val_y))\n",
    "print(np.mean(las_clf.predict(train_hog)==train_y))\n",
    "print(np.mean(las_clf.predict(test_hog)==test_y))"
   ]
  }
 ],
 "metadata": {
  "kernelspec": {
   "display_name": "Python 3",
   "language": "python",
   "name": "python3"
  },
  "language_info": {
   "codemirror_mode": {
    "name": "ipython",
    "version": 3
   },
   "file_extension": ".py",
   "mimetype": "text/x-python",
   "name": "python",
   "nbconvert_exporter": "python",
   "pygments_lexer": "ipython3",
   "version": "3.6.9"
  }
 },
 "nbformat": 4,
 "nbformat_minor": 4
}
